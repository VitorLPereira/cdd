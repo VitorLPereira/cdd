{
 "cells": [
  {
   "cell_type": "markdown",
   "metadata": {},
   "source": [
    "___\n",
    "# Ciência dos Dados - PROJETO 1"
   ]
  },
  {
   "cell_type": "markdown",
   "metadata": {},
   "source": [
    "## COLOQUE AQUI SEU NOME\n",
    "___Vitor Leandro Pereira"
   ]
  },
  {
   "cell_type": "markdown",
   "metadata": {},
   "source": [
    "## TÍTULO DO SEU PROJETO\n",
    "A influencia do rendimento domiciliar percapita na qualidade de vida"
   ]
  },
  {
   "cell_type": "markdown",
   "metadata": {},
   "source": [
    "___\n",
    "## Introdução\n",
    "\n",
    "Descreva aqui o que pretende analisar!\n",
    "\n",
    "Capriche no português!! \n",
    "Se quiser pode utilizar pesquisas semelhantes publicadas em sites confiáveis!!\n"
   ]
  },
  {
   "cell_type": "markdown",
   "metadata": {},
   "source": [
    "___\n",
    "## Análise e Resultados"
   ]
  },
  {
   "cell_type": "code",
   "execution_count": 4,
   "metadata": {
    "collapsed": true
   },
   "outputs": [],
   "source": [
    "%matplotlib inline\n",
    "import pandas as pd\n",
    "import matplotlib.pyplot as plt\n",
    "import numpy as np\n",
    "import os\n"
   ]
  },
  {
   "cell_type": "code",
   "execution_count": 5,
   "metadata": {},
   "outputs": [
    {
     "name": "stdout",
     "output_type": "stream",
     "text": [
      "Esperamos trabalhar no diretório\n",
      "C:\\Users\\Vitão\\Downloads\n"
     ]
    }
   ],
   "source": [
    "print('Esperamos trabalhar no diretório')\n",
    "print(os.getcwd())"
   ]
  },
  {
   "cell_type": "code",
   "execution_count": null,
   "metadata": {
    "collapsed": true
   },
   "outputs": [],
   "source": [
    "#Se usar o arquivo descompactado\n",
    "#pd.read_csv('DOM2015.csv',sep=',')\n",
    "\n",
    "#Se usar o arquivo compactado como está no dropbox púbico\n",
    "valores=pd.read_csv('DOM2014csv.zip', compression='zip', header=0, sep=',', quotechar='\"')"
   ]
  },
  {
   "cell_type": "code",
   "execution_count": null,
   "metadata": {},
   "outputs": [],
   "source": [
    "dados=pd.DataFrame({\n",
    "    'Rendimento mensal domiciliar' :valores.V4614,\n",
    "    'Faixa_do_rendimento_mensal_domiciliar_per_capita' :valores.V4622,\n",
    "    'Tem_água_filtrada':valores.V0224,\n",
    "    'Forma_de_iluminação_do_domicílio' :valores.V0219,\n",
    "    'Tem_geladeira' :valores.V0228,\n",
    "    \n",
    "    \n",
    "    })\n",
    "\n",
    "\n",
    "dados.Faixa_do_rendimento_mensal_domiciliar_per_capita=dados.Faixa_do_rendimento_mensal_domiciliar_per_capita.astype('category')\n",
    "dados.Faixa_do_rendimento_mensal_domiciliar_per_capita.cat.categories=('Zero salários mínimos','Zero-1/4 salários mínimos','1/4-1/2 salário mínimo','1/2-1 salário mínimo','1-2 salários mínimos','2-3 salários mínimos','3-5 salários mínimos','5 ou mais salários mínimos','SD')\n",
    "dados.Tem_água_filtrada=dados.Tem_água_filtrada.astype('category')\n",
    "dados.Tem_água_filtrada.cat.categories=('Sim','Não')\n",
    "dados.Forma_de_iluminação_do_domicílio=dados.Forma_de_iluminação_do_domicílio.astype('category')\n",
    "dados.Forma_de_iluminação_do_domicílio.cat.categories=('Elétrica','Óleo ou Gás','Outra forma')\n",
    "dados.Tem_geladeira=dados.Tem_geladeira.astype('category')\n",
    "dados.Tem_geladeira.cat.categories=('Sim de 2 portas','Sim de 1 porta','Não')\n",
    "\n",
    "\n",
    "\n",
    "dados.dropna()"
   ]
  },
  {
   "cell_type": "markdown",
   "metadata": {},
   "source": [
    "___\n",
    "## Conclusão "
   ]
  },
  {
   "cell_type": "markdown",
   "metadata": {
    "collapsed": true
   },
   "source": [
    "Descreva aqui suas conclusões!"
   ]
  },
  {
   "cell_type": "code",
   "execution_count": null,
   "metadata": {
    "collapsed": true
   },
   "outputs": [],
   "source": []
  }
 ],
 "metadata": {
  "anaconda-cloud": {},
  "kernelspec": {
   "display_name": "Python 3",
   "language": "python",
   "name": "python3"
  },
  "language_info": {
   "codemirror_mode": {
    "name": "ipython",
    "version": 3
   },
   "file_extension": ".py",
   "mimetype": "text/x-python",
   "name": "python",
   "nbconvert_exporter": "python",
   "pygments_lexer": "ipython3",
   "version": "3.6.1"
  }
 },
 "nbformat": 4,
 "nbformat_minor": 1
}
